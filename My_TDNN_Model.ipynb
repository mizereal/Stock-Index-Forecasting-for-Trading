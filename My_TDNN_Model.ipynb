{
 "cells": [
  {
   "cell_type": "code",
   "execution_count": 16,
   "metadata": {},
   "outputs": [],
   "source": [
    "import numpy as np\n",
    "import tensorflow as tf\n",
    "import math, os, sys, datetime\n",
    "from pandas_datareader import data as pdr\n",
    "from datetime import date, timedelta\n",
    "import yfinance as yf\n",
    "yf.pdr_override()\n",
    "import pandas as pd\n",
    "import matplotlib.pyplot as plt\n",
    "import seaborn as sns\n",
    "from functools import reduce\n",
    "from sklearn import preprocessing\n",
    "from models.psooptimizer import Optimizer as PSOOptimizer\n",
    "from utils.preprocessstock import preprocess\n",
    "import tensorflow_probability as tfp\n",
    "from ta import add_all_ta_features\n",
    "from ta.utils import dropna\n",
    "from ta.others import CumulativeReturnIndicator\n",
    "from ta.volatility import KeltnerChannel, DonchianChannel, BollingerBands\n",
    "from ta.trend import EMAIndicator, IchimokuIndicator\n",
    "from ta.momentum import KAMAIndicator\n",
    "\n",
    "#Tickers list\n",
    "# We can add and delete any ticker from the list to get desired ticker live data\n",
    "# tickers=['AAPL']\n",
    "tickers=['AAPL','AMZN','FB','GOOG','MMM','MSFT','NFLX','NKE','NVDA','INTC','CSCO','WMT','TSLA','EBAY',\n",
    "         'ORCL','CBG.BK','OSP.BK','BBL.BK','SCB.BK','LH.BK','MINT.BK','PTT.BK','BANPU.BK','ADVANC.BK',\n",
    "         'TRUE.BK','AOT.BK','BEM.BK','BTS.BK','CPALL.BK','CPN.BK']\n",
    "# 'AAPL','AMZN','FB','GOOG','MMM','MSFT','NFLX','NKE','NVDA','INTC','CSCO','WMT','TSLA','EBAY',\n",
    "#         'ORCL','CBG.BK','OSP.BK','BBL.BK','SCB.BK','LH.BK','MINT.BK','PTT.BK','BANPU.BK','ADVANC.BK',\n",
    "#          'TRUE.BK','AOT.BK','BEM.BK','BTS.BK','CPALL.BK','CPN.BK'\n",
    "# startdate = date.today() - timedelta(days=725)\n",
    "# enddate= date.today()\n",
    "startdate = datetime.datetime(2019, 1, 1)\n",
    "enddate = datetime.datetime(2021, 2, 6)\n",
    "enddate2 = datetime.datetime(2021, 3, 6)"
   ]
  },
  {
   "cell_type": "code",
   "execution_count": 17,
   "metadata": {},
   "outputs": [],
   "source": [
    "gpus = tf.config.experimental.list_physical_devices('GPU')\n",
    "if gpus:\n",
    "    try:\n",
    "        for gpu in gpus:\n",
    "            tf.config.experimental.set_memory_growth(gpu, True)\n",
    "    except RuntimeError as e:\n",
    "        print(e)"
   ]
  },
  {
   "cell_type": "code",
   "execution_count": 18,
   "metadata": {},
   "outputs": [],
   "source": [
    "all_data1 = pd.DataFrame() \n",
    "for stocks in tickers:\n",
    "    ticker = yf.Ticker(stocks)\n",
    "    data = ticker.history(start=startdate, end=enddate)\n",
    "    # data.insert(0, 'ticker', stocks)\n",
    "#     pct_change = abs(((next_price/curr_price)-1)*100)\n",
    "    \n",
    "    data['next_close'] = abs(((data['Close'].shift(-1)/data['Close'])-1)*100)\n",
    "    data = data.drop(columns=['Volume', 'Open', 'High', 'Low', 'Dividends', 'Stock Splits'])\n",
    "    data = dropna(data)\n",
    "    if len(data)>504:\n",
    "        data.drop(data.tail(1).index,inplace=True)\n",
    "    all_data1 = all_data1.append(data)"
   ]
  },
  {
   "cell_type": "code",
   "execution_count": 20,
   "metadata": {},
   "outputs": [
    {
     "data": {
      "text/html": [
       "<div>\n",
       "<style scoped>\n",
       "    .dataframe tbody tr th:only-of-type {\n",
       "        vertical-align: middle;\n",
       "    }\n",
       "\n",
       "    .dataframe tbody tr th {\n",
       "        vertical-align: top;\n",
       "    }\n",
       "\n",
       "    .dataframe thead th {\n",
       "        text-align: right;\n",
       "    }\n",
       "</style>\n",
       "<table border=\"1\" class=\"dataframe\">\n",
       "  <thead>\n",
       "    <tr style=\"text-align: right;\">\n",
       "      <th></th>\n",
       "      <th>Close</th>\n",
       "      <th>next_close</th>\n",
       "    </tr>\n",
       "  </thead>\n",
       "  <tbody>\n",
       "    <tr>\n",
       "      <th>count</th>\n",
       "      <td>14362.000000</td>\n",
       "      <td>14362.000000</td>\n",
       "    </tr>\n",
       "    <tr>\n",
       "      <th>mean</th>\n",
       "      <td>229.529633</td>\n",
       "      <td>1.680801</td>\n",
       "    </tr>\n",
       "    <tr>\n",
       "      <th>std</th>\n",
       "      <td>491.763684</td>\n",
       "      <td>1.898440</td>\n",
       "    </tr>\n",
       "    <tr>\n",
       "      <th>min</th>\n",
       "      <td>2.389167</td>\n",
       "      <td>0.001746</td>\n",
       "    </tr>\n",
       "    <tr>\n",
       "      <th>25%</th>\n",
       "      <td>41.173667</td>\n",
       "      <td>0.581383</td>\n",
       "    </tr>\n",
       "    <tr>\n",
       "      <th>50%</th>\n",
       "      <td>70.916962</td>\n",
       "      <td>1.104975</td>\n",
       "    </tr>\n",
       "    <tr>\n",
       "      <th>75%</th>\n",
       "      <td>166.357502</td>\n",
       "      <td>2.068967</td>\n",
       "    </tr>\n",
       "    <tr>\n",
       "      <th>max</th>\n",
       "      <td>3531.449951</td>\n",
       "      <td>26.229516</td>\n",
       "    </tr>\n",
       "  </tbody>\n",
       "</table>\n",
       "</div>"
      ],
      "text/plain": [
       "              Close    next_close\n",
       "count  14362.000000  14362.000000\n",
       "mean     229.529633      1.680801\n",
       "std      491.763684      1.898440\n",
       "min        2.389167      0.001746\n",
       "25%       41.173667      0.581383\n",
       "50%       70.916962      1.104975\n",
       "75%      166.357502      2.068967\n",
       "max     3531.449951     26.229516"
      ]
     },
     "execution_count": 20,
     "metadata": {},
     "output_type": "execute_result"
    }
   ],
   "source": [
    "all_data1.describe()"
   ]
  },
  {
   "cell_type": "code",
   "execution_count": 4,
   "metadata": {},
   "outputs": [],
   "source": [
    "all_data2 = pd.DataFrame() \n",
    "for stocks in tickers2:\n",
    "    ticker = yf.Ticker(stocks)\n",
    "    data = ticker.history(start=startdate, end=enddate2)\n",
    "    # data.insert(0, 'ticker', stocks)\n",
    "    volatility_bbm = BollingerBands(close=data[\"Close\"], window=20, window_dev=2)\n",
    "    data['volatility_bbm'] = volatility_bbm.bollinger_mavg()\n",
    "    volatility_kcl = KeltnerChannel(high=data[\"High\"], low=data[\"Low\"], close=data[\"Close\"])\n",
    "    data['volatility_kcl'] = volatility_kcl.keltner_channel_lband()\n",
    "    trend_ema_fast = EMAIndicator(close=data[\"Close\"], window=14)\n",
    "    data['trend_ema_fast'] = trend_ema_fast.ema_indicator()\n",
    "    trend_ichimoku_conv = IchimokuIndicator(high=data[\"High\"], low=data[\"Low\"], window1=9, window2=26, window3=52)\n",
    "    data['trend_ichimoku_conv'] = trend_ichimoku_conv.ichimoku_conversion_line()\n",
    "    momentum_kama = KAMAIndicator(close=data[\"Close\"], window=10, pow1=2, pow2=30)\n",
    "    data['momentum_kama'] = momentum_kama.kama()\n",
    "    data['next_Close'] = data['Close'].shift(-7)\n",
    "    data = data.drop(columns=['Volume', 'Open', 'High', 'Low', 'Dividends', 'Stock Splits'])\n",
    "    data = dropna(data)\n",
    "    if len(data)>504:\n",
    "        data.drop(data.tail(1).index,inplace=True)\n",
    "    all_data2 = all_data2.append(data)"
   ]
  },
  {
   "cell_type": "code",
   "execution_count": 5,
   "metadata": {
    "scrolled": true
   },
   "outputs": [
    {
     "data": {
      "text/html": [
       "<div>\n",
       "<style scoped>\n",
       "    .dataframe tbody tr th:only-of-type {\n",
       "        vertical-align: middle;\n",
       "    }\n",
       "\n",
       "    .dataframe tbody tr th {\n",
       "        vertical-align: top;\n",
       "    }\n",
       "\n",
       "    .dataframe thead th {\n",
       "        text-align: right;\n",
       "    }\n",
       "</style>\n",
       "<table border=\"1\" class=\"dataframe\">\n",
       "  <thead>\n",
       "    <tr style=\"text-align: right;\">\n",
       "      <th></th>\n",
       "      <th>Close</th>\n",
       "      <th>volatility_bbm</th>\n",
       "      <th>volatility_kcl</th>\n",
       "      <th>trend_ema_fast</th>\n",
       "      <th>trend_ichimoku_conv</th>\n",
       "      <th>momentum_kama</th>\n",
       "      <th>next_Close</th>\n",
       "    </tr>\n",
       "    <tr>\n",
       "      <th>Date</th>\n",
       "      <th></th>\n",
       "      <th></th>\n",
       "      <th></th>\n",
       "      <th></th>\n",
       "      <th></th>\n",
       "      <th></th>\n",
       "      <th></th>\n",
       "    </tr>\n",
       "  </thead>\n",
       "  <tbody>\n",
       "    <tr>\n",
       "      <th>2019-01-29</th>\n",
       "      <td>37.651077</td>\n",
       "      <td>37.285227</td>\n",
       "      <td>36.403180</td>\n",
       "      <td>37.619028</td>\n",
       "      <td>37.708279</td>\n",
       "      <td>37.127523</td>\n",
       "      <td>41.608967</td>\n",
       "    </tr>\n",
       "    <tr>\n",
       "      <th>2019-01-30</th>\n",
       "      <td>40.223942</td>\n",
       "      <td>37.376628</td>\n",
       "      <td>36.439408</td>\n",
       "      <td>37.966350</td>\n",
       "      <td>38.684357</td>\n",
       "      <td>37.460947</td>\n",
       "      <td>41.657860</td>\n",
       "    </tr>\n",
       "    <tr>\n",
       "      <th>2019-01-31</th>\n",
       "      <td>40.513611</td>\n",
       "      <td>37.480322</td>\n",
       "      <td>36.559248</td>\n",
       "      <td>38.305985</td>\n",
       "      <td>39.031225</td>\n",
       "      <td>37.772888</td>\n",
       "      <td>41.418289</td>\n",
       "    </tr>\n",
       "    <tr>\n",
       "      <th>2019-02-01</th>\n",
       "      <td>40.533089</td>\n",
       "      <td>37.776434</td>\n",
       "      <td>36.857551</td>\n",
       "      <td>38.602932</td>\n",
       "      <td>39.031225</td>\n",
       "      <td>38.035725</td>\n",
       "      <td>41.775200</td>\n",
       "    </tr>\n",
       "    <tr>\n",
       "      <th>2019-02-04</th>\n",
       "      <td>41.684422</td>\n",
       "      <td>38.056237</td>\n",
       "      <td>37.144331</td>\n",
       "      <td>39.013797</td>\n",
       "      <td>39.354962</td>\n",
       "      <td>38.491617</td>\n",
       "      <td>41.601627</td>\n",
       "    </tr>\n",
       "    <tr>\n",
       "      <th>...</th>\n",
       "      <td>...</td>\n",
       "      <td>...</td>\n",
       "      <td>...</td>\n",
       "      <td>...</td>\n",
       "      <td>...</td>\n",
       "      <td>...</td>\n",
       "      <td>...</td>\n",
       "    </tr>\n",
       "    <tr>\n",
       "      <th>2021-02-17</th>\n",
       "      <td>50.359642</td>\n",
       "      <td>50.273238</td>\n",
       "      <td>48.767386</td>\n",
       "      <td>50.570931</td>\n",
       "      <td>51.100224</td>\n",
       "      <td>50.603822</td>\n",
       "      <td>52.334526</td>\n",
       "    </tr>\n",
       "    <tr>\n",
       "      <th>2021-02-18</th>\n",
       "      <td>51.100224</td>\n",
       "      <td>50.409012</td>\n",
       "      <td>48.919617</td>\n",
       "      <td>50.641504</td>\n",
       "      <td>51.593945</td>\n",
       "      <td>50.628972</td>\n",
       "      <td>54.556278</td>\n",
       "    </tr>\n",
       "    <tr>\n",
       "      <th>2021-02-19</th>\n",
       "      <td>50.853363</td>\n",
       "      <td>50.495413</td>\n",
       "      <td>49.055391</td>\n",
       "      <td>50.669752</td>\n",
       "      <td>51.840807</td>\n",
       "      <td>50.640341</td>\n",
       "      <td>55.049999</td>\n",
       "    </tr>\n",
       "    <tr>\n",
       "      <th>2021-02-22</th>\n",
       "      <td>50.112778</td>\n",
       "      <td>50.396669</td>\n",
       "      <td>49.038934</td>\n",
       "      <td>50.595488</td>\n",
       "      <td>51.840806</td>\n",
       "      <td>50.638145</td>\n",
       "      <td>55.750000</td>\n",
       "    </tr>\n",
       "    <tr>\n",
       "      <th>2021-02-23</th>\n",
       "      <td>52.828251</td>\n",
       "      <td>50.421355</td>\n",
       "      <td>48.997790</td>\n",
       "      <td>50.893190</td>\n",
       "      <td>51.717375</td>\n",
       "      <td>50.702020</td>\n",
       "      <td>56.000000</td>\n",
       "    </tr>\n",
       "  </tbody>\n",
       "</table>\n",
       "<p>10080 rows × 7 columns</p>\n",
       "</div>"
      ],
      "text/plain": [
       "                Close  volatility_bbm  volatility_kcl  trend_ema_fast  \\\n",
       "Date                                                                    \n",
       "2019-01-29  37.651077       37.285227       36.403180       37.619028   \n",
       "2019-01-30  40.223942       37.376628       36.439408       37.966350   \n",
       "2019-01-31  40.513611       37.480322       36.559248       38.305985   \n",
       "2019-02-01  40.533089       37.776434       36.857551       38.602932   \n",
       "2019-02-04  41.684422       38.056237       37.144331       39.013797   \n",
       "...               ...             ...             ...             ...   \n",
       "2021-02-17  50.359642       50.273238       48.767386       50.570931   \n",
       "2021-02-18  51.100224       50.409012       48.919617       50.641504   \n",
       "2021-02-19  50.853363       50.495413       49.055391       50.669752   \n",
       "2021-02-22  50.112778       50.396669       49.038934       50.595488   \n",
       "2021-02-23  52.828251       50.421355       48.997790       50.893190   \n",
       "\n",
       "            trend_ichimoku_conv  momentum_kama  next_Close  \n",
       "Date                                                        \n",
       "2019-01-29            37.708279      37.127523   41.608967  \n",
       "2019-01-30            38.684357      37.460947   41.657860  \n",
       "2019-01-31            39.031225      37.772888   41.418289  \n",
       "2019-02-01            39.031225      38.035725   41.775200  \n",
       "2019-02-04            39.354962      38.491617   41.601627  \n",
       "...                         ...            ...         ...  \n",
       "2021-02-17            51.100224      50.603822   52.334526  \n",
       "2021-02-18            51.593945      50.628972   54.556278  \n",
       "2021-02-19            51.840807      50.640341   55.049999  \n",
       "2021-02-22            51.840806      50.638145   55.750000  \n",
       "2021-02-23            51.717375      50.702020   56.000000  \n",
       "\n",
       "[10080 rows x 7 columns]"
      ]
     },
     "execution_count": 5,
     "metadata": {},
     "output_type": "execute_result"
    }
   ],
   "source": [
    "data = all_data1.append(all_data2)\n",
    "data"
   ]
  },
  {
   "cell_type": "code",
   "execution_count": 6,
   "metadata": {},
   "outputs": [],
   "source": [
    "timesteps = 7\n",
    "min_max_scaler = preprocessing.MinMaxScaler()\n",
    "features = min_max_scaler.fit_transform(data.iloc[:, [1,2,3,4,5]])\n",
    "features = features[:len(features)//timesteps*timesteps].reshape((len(features)//timesteps, timesteps, 5))"
   ]
  },
  {
   "cell_type": "code",
   "execution_count": 7,
   "metadata": {},
   "outputs": [],
   "source": [
    "labels = data.iloc[:, [6]].to_numpy()\n",
    "labels = labels[:len(labels)//timesteps*timesteps].reshape((len(labels)//timesteps, timesteps, 1))"
   ]
  },
  {
   "cell_type": "code",
   "execution_count": 8,
   "metadata": {
    "scrolled": true
   },
   "outputs": [
    {
     "name": "stdout",
     "output_type": "stream",
     "text": [
      "(1152, 1, 7, 5, 1) (1152, 7, 1) (288, 1, 7, 5, 1) (288, 7, 1)\n"
     ]
    }
   ],
   "source": [
    "train_test_split_factor = .80\n",
    "validation_split_factor = .20\n",
    "train_x, train_y, test_x, test_y = features[:math.floor(len(features)*train_test_split_factor)], labels[:math.floor(len(labels)*train_test_split_factor)], features[math.floor(len(features)*train_test_split_factor):], labels[math.floor(len(labels)*train_test_split_factor):]\n",
    "train_x, test_x = np.expand_dims(train_x, axis=1), np.expand_dims(test_x, axis=1)\n",
    "train_x, test_x = np.expand_dims(train_x, axis=-1), np.expand_dims(test_x, axis=-1)\n",
    "input_shape = train_x.shape\n",
    "# train_y, test_y = np.expand_dims(train_y, axis=2), np.expand_dims(test_y, axis=2) # for use with TimeDistributed\n",
    "print(train_x.shape, train_y.shape, test_x.shape, test_y.shape)"
   ]
  },
  {
   "cell_type": "code",
   "execution_count": 24,
   "metadata": {},
   "outputs": [
    {
     "data": {
      "text/plain": [
       "13.165271759033203"
      ]
     },
     "execution_count": 24,
     "metadata": {},
     "output_type": "execute_result"
    }
   ],
   "source": [
    "train_y.min()"
   ]
  },
  {
   "cell_type": "code",
   "execution_count": 9,
   "metadata": {
    "scrolled": true
   },
   "outputs": [
    {
     "data": {
      "text/plain": [
       "array([[[0.02664539, 0.02836251, 0.0256493 , 0.02705791, 0.02758611],\n",
       "        [0.02676064, 0.02841   , 0.02607457, 0.02821317, 0.02799152],\n",
       "        [0.02689139, 0.02856711, 0.02649042, 0.02862371, 0.0283708 ],\n",
       "        [0.02726477, 0.02895818, 0.026854  , 0.02862371, 0.02869038],\n",
       "        [0.02761759, 0.02933414, 0.02735707, 0.02900687, 0.02924469],\n",
       "        [0.02802043, 0.02975722, 0.0279095 , 0.02950529, 0.03038968],\n",
       "        [0.02838092, 0.03014712, 0.02839065, 0.02985244, 0.03125085]]])"
      ]
     },
     "execution_count": 9,
     "metadata": {},
     "output_type": "execute_result"
    }
   ],
   "source": [
    "features[0:1]"
   ]
  },
  {
   "cell_type": "code",
   "execution_count": 10,
   "metadata": {},
   "outputs": [
    {
     "data": {
      "text/plain": [
       "array([[[41.60896683],\n",
       "        [41.6578598 ],\n",
       "        [41.41828918],\n",
       "        [41.77519989],\n",
       "        [41.60162735],\n",
       "        [41.75320053],\n",
       "        [41.66029739]]])"
      ]
     },
     "execution_count": 10,
     "metadata": {},
     "output_type": "execute_result"
    }
   ],
   "source": [
    "labels[0:1]"
   ]
  },
  {
   "cell_type": "code",
   "execution_count": 11,
   "metadata": {},
   "outputs": [],
   "source": [
    "def build_model(loss):\n",
    "    layers = [\n",
    "        tf.keras.layers.TimeDistributed(tf.keras.layers.Conv1D(7, 3, padding='same', activation='relu', input_shape=input_shape[1:])),\n",
    "        tf.keras.layers.TimeDistributed(tf.keras.layers.Conv1D(7, 3, padding='same', activation='relu', dilation_rate=2)),\n",
    "        tf.keras.layers.TimeDistributed(tf.keras.layers.Conv1D(14, 3, padding='same', activation='relu', dilation_rate=1)),\n",
    "        tf.keras.layers.TimeDistributed(tf.keras.layers.Conv1D(36, 3, padding='same', activation='relu', dilation_rate=1)),\n",
    "        tf.keras.layers.Dense(70, activation='relu'),\n",
    "        tf.keras.layers.Flatten(),\n",
    "        tf.keras.layers.Dense(7, activation='linear')\n",
    "    ]\n",
    "    model = tf.keras.models.Sequential(layers=layers)\n",
    "    model.compile(optimizer='adam', loss=loss)\n",
    "    return model"
   ]
  },
  {
   "cell_type": "code",
   "execution_count": 12,
   "metadata": {},
   "outputs": [],
   "source": [
    "N = 10\n",
    "STEPS = 150\n",
    "LOSS = 'mse'\n",
    "BATCH_SIZE = 32"
   ]
  },
  {
   "cell_type": "code",
   "execution_count": 13,
   "metadata": {},
   "outputs": [],
   "source": [
    "def run_backpropagation(x_train, y_train, epochs=0):\n",
    "    best_model = None\n",
    "    best_score = float('inf')\n",
    "    if epochs == 0:\n",
    "        epochs = STEPS\n",
    "    for i in range(N):\n",
    "        model_s = build_model(LOSS)\n",
    "        model_s.fit(\n",
    "            x_train, y_train,\n",
    "            epochs=epochs,\n",
    "            batch_size=BATCH_SIZE,\n",
    "            verbose=0\n",
    "        )\n",
    "        train_score = model_s.evaluate(x_train, y_train, batch_size=BATCH_SIZE, verbose=0)\n",
    "        if train_score < best_score:\n",
    "            best_model = model_s\n",
    "            best_score = train_score\n",
    "        return best_model"
   ]
  },
  {
   "cell_type": "code",
   "execution_count": 14,
   "metadata": {
    "scrolled": false
   },
   "outputs": [
    {
     "name": "stdout",
     "output_type": "stream",
     "text": [
      "Backprop -- train: 117.3880  test: 150.2037\n",
      "PSO -- Initial best score 109.3449\n",
      " [====================] \n",
      "PSO -- train: 4386.0498  test: 11282.6904\n"
     ]
    }
   ],
   "source": [
    "model_s = run_backpropagation(train_x, train_y)\n",
    "b_train_score = model_s.evaluate(train_x, train_y, batch_size=BATCH_SIZE, verbose=0)\n",
    "b_test_score = model_s.evaluate(test_x[:64], test_y[:64], batch_size=BATCH_SIZE, verbose=0)\n",
    "print(\"Backprop -- train: {:.4f}  test: {:.4f}\".format(b_train_score, b_test_score))\n",
    "\n",
    "model_p = run_backpropagation(train_x, train_y) # initilize weights\n",
    "pso = PSOOptimizer(model=model_p,\n",
    "                  loss=LOSS,\n",
    "                  n=N,\n",
    "                  acceleration=1.0,\n",
    "                  local_rate=.6,\n",
    "                  global_rate=.4)\n",
    "pso.fit(train_x, train_y, steps=STEPS, batch_size=BATCH_SIZE)\n",
    "model_p = pso.get_best_model()\n",
    "p_train_score = model_p.evaluate(train_x, train_y, batch_size=BATCH_SIZE, verbose=0)\n",
    "p_test_score = model_p.evaluate(test_x[:64], test_y[:64], batch_size=BATCH_SIZE, verbose=0)\n",
    "print(\"PSO -- train: {:.4f}  test: {:.4f}\".format(p_train_score, p_test_score))"
   ]
  },
  {
   "cell_type": "code",
   "execution_count": 15,
   "metadata": {
    "scrolled": false
   },
   "outputs": [
    {
     "data": {
      "image/png": "[encoded data removed]",
      "text/plain": [
       "<Figure size 432x288 with 1 Axes>"
      ]
     },
     "metadata": {
      "needs_background": "light"
     },
     "output_type": "display_data"
    }
   ],
   "source": [
    "pred = model_s.predict(test_x)\n",
    "close_pred = np.reshape(pred, (-1, 1))\n",
    "test_y_reshape = np.reshape(test_y, (-1, 1))\n",
    "days = np.arange(1, len(test_y_reshape)+1)\n",
    "plt.plot(days, test_y_reshape, 'b', label='Actual line')\n",
    "plt.plot(days, close_pred, 'r', label='Predicted line')\n",
    "plt.title('TDNN')\n",
    "plt.xlabel('Days')\n",
    "plt.ylabel('Close Prices')\n",
    "plt.legend()\n",
    "plt.show()"
   ]
  },
  {
   "cell_type": "code",
   "execution_count": 16,
   "metadata": {},
   "outputs": [
    {
     "name": "stdout",
     "output_type": "stream",
     "text": [
      "MSE: 60.1823\n",
      "EVS = 0.9903\n"
     ]
    }
   ],
   "source": [
    "from sklearn.metrics import explained_variance_score\n",
    "from sklearn.metrics import mean_squared_error  as MSE\n",
    "print('MSE: {:0.4f}' .format(MSE(test_y_reshape, close_pred)))\n",
    "print('EVS = {:0.4f}'.format(explained_variance_score(test_y_reshape, close_pred)))"
   ]
  },
  {
   "cell_type": "code",
   "execution_count": 17,
   "metadata": {
    "scrolled": false
   },
   "outputs": [
    {
     "data": {
      "image/png": "[encoded data removed]",
      "text/plain": [
       "<Figure size 432x288 with 1 Axes>"
      ]
     },
     "metadata": {
      "needs_background": "light"
     },
     "output_type": "display_data"
    }
   ],
   "source": [
    "pred = model_p.predict(test_x)\n",
    "close_pred = np.reshape(pred, (-1, 1))\n",
    "test_y_reshape = np.reshape(test_y, (-1, 1))\n",
    "days = np.arange(1, len(test_y_reshape)+1)\n",
    "plt.plot(days, test_y_reshape, 'b', label='Actual line')\n",
    "plt.plot(days, close_pred, 'r', label='Predicted line')\n",
    "plt.title('TDNN+PSO')\n",
    "plt.xlabel('Days')\n",
    "plt.ylabel('Close Prices')\n",
    "plt.legend()\n",
    "plt.show()"
   ]
  },
  {
   "cell_type": "code",
   "execution_count": 18,
   "metadata": {},
   "outputs": [
    {
     "name": "stdout",
     "output_type": "stream",
     "text": [
      "MSE: 3150.2755\n",
      "EVS = 0.5497\n"
     ]
    }
   ],
   "source": [
    "from sklearn.metrics import explained_variance_score\n",
    "from sklearn.metrics import mean_squared_error  as MSE\n",
    "print('MSE: {:0.4f}' .format(MSE(test_y_reshape, close_pred)))\n",
    "print('EVS = {:0.4f}'.format(explained_variance_score(test_y_reshape, close_pred)))"
   ]
  },
  {
   "cell_type": "code",
   "execution_count": 19,
   "metadata": {},
   "outputs": [],
   "source": [
    "model_s.save('weights/tdnn.h5')\n",
    "model_s.save_weights('weights/tdnn_weight_only.h5')\n",
    "model_p.save('weights/tdnnpso.h5')\n",
    "model_p.save_weights('weights/tdnnpso_weight_only.h5')"
   ]
  },
  {
   "cell_type": "code",
   "execution_count": null,
   "metadata": {},
   "outputs": [],
   "source": []
  }
 ],
 "metadata": {
  "kernelspec": {
   "display_name": "Python 3",
   "language": "python",
   "name": "python3"
  },
  "language_info": {
   "codemirror_mode": {
    "name": "ipython",
    "version": 3
   },
   "file_extension": ".py",
   "mimetype": "text/x-python",
   "name": "python",
   "nbconvert_exporter": "python",
   "pygments_lexer": "ipython3",
   "version": "3.7.6"
  }
 },
 "nbformat": 4,
 "nbformat_minor": 4
}
