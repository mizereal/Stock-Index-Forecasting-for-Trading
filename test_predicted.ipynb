{
 "cells": [
  {
   "cell_type": "code",
   "execution_count": 4,
   "metadata": {
    "scrolled": true
   },
   "outputs": [],
   "source": [
    "import tensorflow as tf\n",
    "import numpy as np\n",
    "import pandas as pd\n",
    "import matplotlib.pyplot as plt\n",
    "import warnings\n",
    "warnings.filterwarnings('ignore')\n",
    "import logging, os\n",
    "logging.disable(logging.WARNING)\n",
    "os.environ[\"TF_CPP_MIN_LOG_LEVEL\"] = \"3\"\n",
    "import math\n",
    "from utils.preprocessstock import preprocess\n",
    "from sklearn.metrics import mean_squared_error  as MSE\n",
    "from sklearn.metrics import explained_variance_score\n",
    "from utils.predictor import Predictor"
   ]
  },
  {
   "cell_type": "code",
   "execution_count": 5,
   "metadata": {},
   "outputs": [],
   "source": [
    "gpus = tf.config.experimental.list_physical_devices('GPU')\n",
    "if gpus:\n",
    "    try:\n",
    "        for gpu in gpus:\n",
    "            tf.config.experimental.set_memory_growth(gpu, True)\n",
    "    except RuntimeError as e:\n",
    "        print(e)"
   ]
  },
  {
   "cell_type": "code",
   "execution_count": 6,
   "metadata": {
    "scrolled": false
   },
   "outputs": [],
   "source": [
    "def evaluate(model, test_features, test_labels, getmax, getmin):\n",
    "    predictions = model.predict(test_features)\n",
    "    predictions\n",
    "    predictions = predictions.reshape(1,-1)[0]\n",
    "    for i in range(0, len(predictions)):\n",
    "        predictions[i] = (predictions[i]*(getmax-getmin))+getmin\n",
    "    test_labels = test_labels.reshape(1,-1)[0]\n",
    "    for i in range(0, len(test_labels)):\n",
    "        test_labels[i] = (test_labels[i]*(getmax-getmin))+getmin    \n",
    "    RMSE = math.sqrt(MSE(test_labels, predictions))\n",
    "    EVS = explained_variance_score(test_labels, predictions)\n",
    "    \n",
    "    return RMSE, EVS\n"
   ]
  },
  {
   "cell_type": "code",
   "execution_count": 7,
   "metadata": {
    "scrolled": true
   },
   "outputs": [],
   "source": [
    "tickers=['AAPL','AMZN','FB','GOOG','MMM','MSFT','NFLX','NKE','NVDA','INTC','CSCO','WMT','TSLA','EBAY',\n",
    "         'ORCL','CBG.BK','OSP.BK','BBL.BK','SCB.BK','LH.BK','MINT.BK','PTT.BK','BANPU.BK','ADVANC.BK',\n",
    "         'TRUE.BK','AOT.BK','BEM.BK','BTS.BK','CPALL.BK','CPN.BK']\n",
    "df = pd.DataFrame(columns=list(['Stock', 'RMSE', 'EVS']))\n",
    "for stock in tickers:\n",
    "    model = Predictor('tdnn', 32)\n",
    "    features, labels, getmax, getmin = model.load_transform(stock)\n",
    "    train_test_split_factor = .80\n",
    "    test_x, test_y = features[math.floor(len(features)*train_test_split_factor):], labels[math.floor(len(labels)*train_test_split_factor):]\n",
    "    \n",
    "    rmse, evs = evaluate(model, test_x, test_y, getmax, getmin)\n",
    "    df2 = pd.DataFrame({\"Stock\":[stock], \"RMSE\":[rmse] ,\"EVS\":[evs]})\n",
    "    df = df.append(df2)"
   ]
  },
  {
   "cell_type": "code",
   "execution_count": 8,
   "metadata": {
    "scrolled": true
   },
   "outputs": [
    {
     "data": {
      "text/html": [
       "<div>\n",
       "<style scoped>\n",
       "    .dataframe tbody tr th:only-of-type {\n",
       "        vertical-align: middle;\n",
       "    }\n",
       "\n",
       "    .dataframe tbody tr th {\n",
       "        vertical-align: top;\n",
       "    }\n",
       "\n",
       "    .dataframe thead th {\n",
       "        text-align: right;\n",
       "    }\n",
       "</style>\n",
       "<table border=\"1\" class=\"dataframe\">\n",
       "  <thead>\n",
       "    <tr style=\"text-align: right;\">\n",
       "      <th></th>\n",
       "      <th>Stock</th>\n",
       "      <th>RMSE</th>\n",
       "      <th>EVS</th>\n",
       "    </tr>\n",
       "  </thead>\n",
       "  <tbody>\n",
       "    <tr>\n",
       "      <th>0</th>\n",
       "      <td>AAPL</td>\n",
       "      <td>6.641496</td>\n",
       "      <td>0.937189</td>\n",
       "    </tr>\n",
       "    <tr>\n",
       "      <th>0</th>\n",
       "      <td>AMZN</td>\n",
       "      <td>153.492321</td>\n",
       "      <td>0.903012</td>\n",
       "    </tr>\n",
       "    <tr>\n",
       "      <th>0</th>\n",
       "      <td>FB</td>\n",
       "      <td>13.311678</td>\n",
       "      <td>0.892199</td>\n",
       "    </tr>\n",
       "    <tr>\n",
       "      <th>0</th>\n",
       "      <td>GOOG</td>\n",
       "      <td>60.333633</td>\n",
       "      <td>0.912200</td>\n",
       "    </tr>\n",
       "    <tr>\n",
       "      <th>0</th>\n",
       "      <td>MMM</td>\n",
       "      <td>7.398244</td>\n",
       "      <td>0.663489</td>\n",
       "    </tr>\n",
       "    <tr>\n",
       "      <th>0</th>\n",
       "      <td>MSFT</td>\n",
       "      <td>9.353957</td>\n",
       "      <td>0.823644</td>\n",
       "    </tr>\n",
       "    <tr>\n",
       "      <th>0</th>\n",
       "      <td>NFLX</td>\n",
       "      <td>26.864227</td>\n",
       "      <td>0.769071</td>\n",
       "    </tr>\n",
       "    <tr>\n",
       "      <th>0</th>\n",
       "      <td>NKE</td>\n",
       "      <td>5.451743</td>\n",
       "      <td>0.921108</td>\n",
       "    </tr>\n",
       "    <tr>\n",
       "      <th>0</th>\n",
       "      <td>NVDA</td>\n",
       "      <td>23.057302</td>\n",
       "      <td>0.958681</td>\n",
       "    </tr>\n",
       "    <tr>\n",
       "      <th>0</th>\n",
       "      <td>INTC</td>\n",
       "      <td>3.086997</td>\n",
       "      <td>0.690613</td>\n",
       "    </tr>\n",
       "    <tr>\n",
       "      <th>0</th>\n",
       "      <td>CSCO</td>\n",
       "      <td>1.836619</td>\n",
       "      <td>0.724748</td>\n",
       "    </tr>\n",
       "    <tr>\n",
       "      <th>0</th>\n",
       "      <td>WMT</td>\n",
       "      <td>4.764650</td>\n",
       "      <td>0.834980</td>\n",
       "    </tr>\n",
       "    <tr>\n",
       "      <th>0</th>\n",
       "      <td>TSLA</td>\n",
       "      <td>32.511902</td>\n",
       "      <td>0.959406</td>\n",
       "    </tr>\n",
       "    <tr>\n",
       "      <th>0</th>\n",
       "      <td>EBAY</td>\n",
       "      <td>2.510088</td>\n",
       "      <td>0.908368</td>\n",
       "    </tr>\n",
       "    <tr>\n",
       "      <th>0</th>\n",
       "      <td>ORCL</td>\n",
       "      <td>2.483700</td>\n",
       "      <td>0.755058</td>\n",
       "    </tr>\n",
       "    <tr>\n",
       "      <th>0</th>\n",
       "      <td>CBG.BK</td>\n",
       "      <td>7.018985</td>\n",
       "      <td>0.887787</td>\n",
       "    </tr>\n",
       "    <tr>\n",
       "      <th>0</th>\n",
       "      <td>OSP.BK</td>\n",
       "      <td>1.974517</td>\n",
       "      <td>0.697224</td>\n",
       "    </tr>\n",
       "    <tr>\n",
       "      <th>0</th>\n",
       "      <td>BBL.BK</td>\n",
       "      <td>8.740978</td>\n",
       "      <td>0.285119</td>\n",
       "    </tr>\n",
       "    <tr>\n",
       "      <th>0</th>\n",
       "      <td>SCB.BK</td>\n",
       "      <td>5.549943</td>\n",
       "      <td>0.565149</td>\n",
       "    </tr>\n",
       "    <tr>\n",
       "      <th>0</th>\n",
       "      <td>LH.BK</td>\n",
       "      <td>0.398226</td>\n",
       "      <td>0.557428</td>\n",
       "    </tr>\n",
       "    <tr>\n",
       "      <th>0</th>\n",
       "      <td>MINT.BK</td>\n",
       "      <td>2.924406</td>\n",
       "      <td>0.109645</td>\n",
       "    </tr>\n",
       "    <tr>\n",
       "      <th>0</th>\n",
       "      <td>PTT.BK</td>\n",
       "      <td>2.810658</td>\n",
       "      <td>0.407250</td>\n",
       "    </tr>\n",
       "    <tr>\n",
       "      <th>0</th>\n",
       "      <td>BANPU.BK</td>\n",
       "      <td>0.712736</td>\n",
       "      <td>0.800842</td>\n",
       "    </tr>\n",
       "    <tr>\n",
       "      <th>0</th>\n",
       "      <td>ADVANC.BK</td>\n",
       "      <td>9.346554</td>\n",
       "      <td>0.170439</td>\n",
       "    </tr>\n",
       "    <tr>\n",
       "      <th>0</th>\n",
       "      <td>TRUE.BK</td>\n",
       "      <td>0.231905</td>\n",
       "      <td>0.419312</td>\n",
       "    </tr>\n",
       "    <tr>\n",
       "      <th>0</th>\n",
       "      <td>AOT.BK</td>\n",
       "      <td>3.800533</td>\n",
       "      <td>0.429786</td>\n",
       "    </tr>\n",
       "    <tr>\n",
       "      <th>0</th>\n",
       "      <td>BEM.BK</td>\n",
       "      <td>0.586055</td>\n",
       "      <td>0.348734</td>\n",
       "    </tr>\n",
       "    <tr>\n",
       "      <th>0</th>\n",
       "      <td>BTS.BK</td>\n",
       "      <td>0.605188</td>\n",
       "      <td>0.676906</td>\n",
       "    </tr>\n",
       "    <tr>\n",
       "      <th>0</th>\n",
       "      <td>CPALL.BK</td>\n",
       "      <td>2.715931</td>\n",
       "      <td>0.657611</td>\n",
       "    </tr>\n",
       "    <tr>\n",
       "      <th>0</th>\n",
       "      <td>CPN.BK</td>\n",
       "      <td>4.852368</td>\n",
       "      <td>0.048732</td>\n",
       "    </tr>\n",
       "  </tbody>\n",
       "</table>\n",
       "</div>"
      ],
      "text/plain": [
       "       Stock       RMSE      EVS\n",
       "0       AAPL   6.641496 0.937189\n",
       "0       AMZN 153.492321 0.903012\n",
       "0         FB  13.311678 0.892199\n",
       "0       GOOG  60.333633 0.912200\n",
       "0        MMM   7.398244 0.663489\n",
       "0       MSFT   9.353957 0.823644\n",
       "0       NFLX  26.864227 0.769071\n",
       "0        NKE   5.451743 0.921108\n",
       "0       NVDA  23.057302 0.958681\n",
       "0       INTC   3.086997 0.690613\n",
       "0       CSCO   1.836619 0.724748\n",
       "0        WMT   4.764650 0.834980\n",
       "0       TSLA  32.511902 0.959406\n",
       "0       EBAY   2.510088 0.908368\n",
       "0       ORCL   2.483700 0.755058\n",
       "0     CBG.BK   7.018985 0.887787\n",
       "0     OSP.BK   1.974517 0.697224\n",
       "0     BBL.BK   8.740978 0.285119\n",
       "0     SCB.BK   5.549943 0.565149\n",
       "0      LH.BK   0.398226 0.557428\n",
       "0    MINT.BK   2.924406 0.109645\n",
       "0     PTT.BK   2.810658 0.407250\n",
       "0   BANPU.BK   0.712736 0.800842\n",
       "0  ADVANC.BK   9.346554 0.170439\n",
       "0    TRUE.BK   0.231905 0.419312\n",
       "0     AOT.BK   3.800533 0.429786\n",
       "0     BEM.BK   0.586055 0.348734\n",
       "0     BTS.BK   0.605188 0.676906\n",
       "0   CPALL.BK   2.715931 0.657611\n",
       "0     CPN.BK   4.852368 0.048732"
      ]
     },
     "execution_count": 8,
     "metadata": {},
     "output_type": "execute_result"
    }
   ],
   "source": [
    "pd.options.display.float_format = '{:.6f}'.format\n",
    "df"
   ]
  },
  {
   "cell_type": "code",
   "execution_count": 30,
   "metadata": {},
   "outputs": [],
   "source": [
    "df.to_csv(\"evaluate.csv\")"
   ]
  },
  {
   "cell_type": "code",
   "execution_count": 28,
   "metadata": {
    "scrolled": false
   },
   "outputs": [],
   "source": [
    "model = Predictor('tdnn', 32)\n",
    "stock = 'AAPL'\n",
    "x, y, getmax, getmin = model.load_transform(stock)\n",
    "pred = model.predict(x)"
   ]
  },
  {
   "cell_type": "code",
   "execution_count": 29,
   "metadata": {},
   "outputs": [],
   "source": [
    "y = y.reshape(1,-1)[0]\n",
    "for i in range(0, len(y)):\n",
    "    y[i] = (y[i]*(getmax-getmin))+getmin"
   ]
  },
  {
   "cell_type": "code",
   "execution_count": 30,
   "metadata": {},
   "outputs": [],
   "source": [
    "pred = pred.reshape(1,-1)[0]\n",
    "for i in range(0, len(pred)):\n",
    "    pred[i] = (pred[i]*(getmax-getmin))+getmin"
   ]
  },
  {
   "cell_type": "code",
   "execution_count": 31,
   "metadata": {
    "scrolled": true
   },
   "outputs": [],
   "source": [
    "y = y[-28:]\n",
    "pred = pred[-7:]\n",
    "all = np.append(y, pred)"
   ]
  },
  {
   "cell_type": "code",
   "execution_count": 34,
   "metadata": {},
   "outputs": [
    {
     "data": {
      "text/plain": [
       "array([118.830284, 118.88013 , 119.91682 , 119.00971 , 117.654045,\n",
       "       118.26211 , 116.96624 , 113.48736 , 114.803154, 115.660416,\n",
       "       116.21863 , 118.6708  , 122.32911 , 122.68796 , 122.54841 ,\n",
       "       121.86061 , 123.35583 , 123.98382 , 121.3921  , 122.84745 ,\n",
       "       122.020096, 121.3921  , 127.472664, 127.40289 , 128.29005 ,\n",
       "       126.25656 , 127.82155 , 131.45993 ], dtype=float32)"
      ]
     },
     "execution_count": 34,
     "metadata": {},
     "output_type": "execute_result"
    }
   ],
   "source": [
    "y"
   ]
  },
  {
   "cell_type": "code",
   "execution_count": 33,
   "metadata": {
    "scrolled": true
   },
   "outputs": [
    {
     "data": {
      "text/plain": [
       "array([ 0.04192697,  0.86450744, -0.7622105 , -1.1522486 ,  0.5141653 ,\n",
       "       -1.1078991 , -3.0654356 ,  1.1461322 ,  0.74118847,  0.48031226,\n",
       "        2.0663645 ,  2.9905474 ,  0.29248884, -0.11387277, -0.5644133 ,\n",
       "        1.2121165 ,  0.5065102 , -2.1349995 ,  1.184683  , -0.67804766,\n",
       "       -0.5173305 ,  4.7700944 , -0.05476392,  0.69152766, -1.6106039 ,\n",
       "        1.2243532 ,  2.7676737 , -5.4643116 , -0.32618064, -0.7798213 ,\n",
       "        0.46822742, -0.37694108, -0.35083964,  1.4670268 ], dtype=float32)"
      ]
     },
     "execution_count": 33,
     "metadata": {},
     "output_type": "execute_result"
    }
   ],
   "source": [
    "all2 = np.diff(all) / all[1:] * 100\n",
    "all2"
   ]
  },
  {
   "cell_type": "code",
   "execution_count": null,
   "metadata": {},
   "outputs": [],
   "source": []
  },
  {
   "cell_type": "code",
   "execution_count": 9,
   "metadata": {},
   "outputs": [
    {
     "data": {
      "text/plain": [
       "array([124.648735, 124.24348 , 123.2821  , 123.86205 , 123.39692 ,\n",
       "       122.96551 , 124.7963  ], dtype=float32)"
      ]
     },
     "execution_count": 9,
     "metadata": {},
     "output_type": "execute_result"
    }
   ],
   "source": [
    "pred[-7:]"
   ]
  },
  {
   "cell_type": "code",
   "execution_count": 28,
   "metadata": {},
   "outputs": [],
   "source": [
    "from datetime import date, timedelta\n",
    "c_days = 28\n",
    "a = date.today()\n",
    "dateList  = []\n",
    "for i in range (c_days, 0, -1):\n",
    "    d = a - timedelta(days = i)\n",
    "    d = d.strftime(\"%d%b\")\n",
    "    dateList.append(d)\n",
    "dateList_f = []\n",
    "for i in range (0, 7):\n",
    "    d = a + timedelta(days = i)\n",
    "    d = d.strftime(\"%d%b\")\n",
    "    dateList_f.append(d)\n",
    "dateList.append(dateList_f[0])"
   ]
  },
  {
   "cell_type": "code",
   "execution_count": 29,
   "metadata": {
    "scrolled": true
   },
   "outputs": [
    {
     "data": {
      "image/png": "[encoded data removed]",
      "text/plain": [
       "<Figure size 1080x360 with 1 Axes>"
      ]
     },
     "metadata": {
      "needs_background": "light"
     },
     "output_type": "display_data"
    }
   ],
   "source": [
    "y = y.reshape(1,-1)[0]\n",
    "y = y[-28:]\n",
    "pred = pred.reshape(1,-1)[0]\n",
    "yy = pred[-7:]\n",
    "yyy = yy[0]\n",
    "y = np.append(y,yyy)\n",
    "plt.figure(figsize=(15,5))\n",
    "plt.title(stock, fontsize=24)\n",
    "plt.plot(dateList, y, label ='Actual')\n",
    "plt.plot(dateList_f, yy, color='red', label ='Predict')\n",
    "plt.xlabel('day')\n",
    "plt.xticks(fontsize=8)\n",
    "plt.ylabel('price')\n",
    "plt.grid()\n",
    "plt.tight_layout()\n",
    "plt.legend()\n",
    "plt.show()"
   ]
  }
 ],
 "metadata": {
  "kernelspec": {
   "display_name": "Python 3",
   "language": "python",
   "name": "python3"
  }
 },
 "nbformat": 4,
 "nbformat_minor": 4
}
